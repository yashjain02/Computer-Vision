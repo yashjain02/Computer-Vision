{
 "cells": [
  {
   "cell_type": "code",
   "execution_count": 1,
   "id": "be0ccd9c",
   "metadata": {},
   "outputs": [],
   "source": [
    "import numpy as np\n",
    "import pandas as pd\n",
    "import matplotlib.pyplot as plt\n",
    "from keras.layers import Dense,Dropout,Input,ZeroPadding2D,Conv2D,Flatten,BatchNormalization,MaxPool2D\n",
    "from keras.models import Sequential\n",
    "from keras.losses import categorical_crossentropy\n",
    "from keras.optimizers import Adam,SGD\n",
    "from tensorflow.keras.utils import img_to_array, load_img\n",
    "from keras.preprocessing.image import ImageDataGenerator\n",
    "from keras.utils import to_categorical\n",
    "from IPython.display import display, Image\n",
    "from keras import optimizers\n",
    "import sys"
   ]
  },
  {
   "cell_type": "code",
   "execution_count": 2,
   "id": "191c399e",
   "metadata": {},
   "outputs": [],
   "source": [
    "labels_df = pd.read_csv('labels.csv')"
   ]
  },
  {
   "cell_type": "code",
   "execution_count": 3,
   "id": "2433f662",
   "metadata": {},
   "outputs": [
    {
     "name": "stdout",
     "output_type": "stream",
     "text": [
      " The shape of the labels:(10222, 2)\n"
     ]
    }
   ],
   "source": [
    "print(f' The shape of the labels:{labels_df.shape}')"
   ]
  },
  {
   "cell_type": "code",
   "execution_count": 4,
   "id": "9fc28178",
   "metadata": {},
   "outputs": [
    {
     "data": {
      "text/html": [
       "<div>\n",
       "<style scoped>\n",
       "    .dataframe tbody tr th:only-of-type {\n",
       "        vertical-align: middle;\n",
       "    }\n",
       "\n",
       "    .dataframe tbody tr th {\n",
       "        vertical-align: top;\n",
       "    }\n",
       "\n",
       "    .dataframe thead th {\n",
       "        text-align: right;\n",
       "    }\n",
       "</style>\n",
       "<table border=\"1\" class=\"dataframe\">\n",
       "  <thead>\n",
       "    <tr style=\"text-align: right;\">\n",
       "      <th></th>\n",
       "      <th>id</th>\n",
       "      <th>breed</th>\n",
       "    </tr>\n",
       "  </thead>\n",
       "  <tbody>\n",
       "    <tr>\n",
       "      <th>0</th>\n",
       "      <td>000bec180eb18c7604dcecc8fe0dba07</td>\n",
       "      <td>boston_bull</td>\n",
       "    </tr>\n",
       "    <tr>\n",
       "      <th>1</th>\n",
       "      <td>001513dfcb2ffafc82cccf4d8bbaba97</td>\n",
       "      <td>dingo</td>\n",
       "    </tr>\n",
       "    <tr>\n",
       "      <th>2</th>\n",
       "      <td>001cdf01b096e06d78e9e5112d419397</td>\n",
       "      <td>pekinese</td>\n",
       "    </tr>\n",
       "    <tr>\n",
       "      <th>3</th>\n",
       "      <td>00214f311d5d2247d5dfe4fe24b2303d</td>\n",
       "      <td>bluetick</td>\n",
       "    </tr>\n",
       "    <tr>\n",
       "      <th>4</th>\n",
       "      <td>0021f9ceb3235effd7fcde7f7538ed62</td>\n",
       "      <td>golden_retriever</td>\n",
       "    </tr>\n",
       "  </tbody>\n",
       "</table>\n",
       "</div>"
      ],
      "text/plain": [
       "                                 id             breed\n",
       "0  000bec180eb18c7604dcecc8fe0dba07       boston_bull\n",
       "1  001513dfcb2ffafc82cccf4d8bbaba97             dingo\n",
       "2  001cdf01b096e06d78e9e5112d419397          pekinese\n",
       "3  00214f311d5d2247d5dfe4fe24b2303d          bluetick\n",
       "4  0021f9ceb3235effd7fcde7f7538ed62  golden_retriever"
      ]
     },
     "execution_count": 4,
     "metadata": {},
     "output_type": "execute_result"
    }
   ],
   "source": [
    "labels_df.head()"
   ]
  },
  {
   "cell_type": "code",
   "execution_count": 5,
   "id": "78eaf40c",
   "metadata": {},
   "outputs": [],
   "source": [
    "# path of the dogs images\n",
    "img_file=\"train/\""
   ]
  },
  {
   "cell_type": "code",
   "execution_count": 6,
   "id": "07ea1e6d",
   "metadata": {},
   "outputs": [
    {
     "data": {
      "text/html": [
       "<div>\n",
       "<style scoped>\n",
       "    .dataframe tbody tr th:only-of-type {\n",
       "        vertical-align: middle;\n",
       "    }\n",
       "\n",
       "    .dataframe tbody tr th {\n",
       "        vertical-align: top;\n",
       "    }\n",
       "\n",
       "    .dataframe thead th {\n",
       "        text-align: right;\n",
       "    }\n",
       "</style>\n",
       "<table border=\"1\" class=\"dataframe\">\n",
       "  <thead>\n",
       "    <tr style=\"text-align: right;\">\n",
       "      <th></th>\n",
       "      <th>id</th>\n",
       "      <th>breed</th>\n",
       "      <th>img_path</th>\n",
       "    </tr>\n",
       "  </thead>\n",
       "  <tbody>\n",
       "    <tr>\n",
       "      <th>0</th>\n",
       "      <td>000bec180eb18c7604dcecc8fe0dba07</td>\n",
       "      <td>boston_bull</td>\n",
       "      <td>train/000bec180eb18c7604dcecc8fe0dba07.jpg</td>\n",
       "    </tr>\n",
       "    <tr>\n",
       "      <th>1</th>\n",
       "      <td>001513dfcb2ffafc82cccf4d8bbaba97</td>\n",
       "      <td>dingo</td>\n",
       "      <td>train/001513dfcb2ffafc82cccf4d8bbaba97.jpg</td>\n",
       "    </tr>\n",
       "    <tr>\n",
       "      <th>2</th>\n",
       "      <td>001cdf01b096e06d78e9e5112d419397</td>\n",
       "      <td>pekinese</td>\n",
       "      <td>train/001cdf01b096e06d78e9e5112d419397.jpg</td>\n",
       "    </tr>\n",
       "    <tr>\n",
       "      <th>3</th>\n",
       "      <td>00214f311d5d2247d5dfe4fe24b2303d</td>\n",
       "      <td>bluetick</td>\n",
       "      <td>train/00214f311d5d2247d5dfe4fe24b2303d.jpg</td>\n",
       "    </tr>\n",
       "    <tr>\n",
       "      <th>4</th>\n",
       "      <td>0021f9ceb3235effd7fcde7f7538ed62</td>\n",
       "      <td>golden_retriever</td>\n",
       "      <td>train/0021f9ceb3235effd7fcde7f7538ed62.jpg</td>\n",
       "    </tr>\n",
       "  </tbody>\n",
       "</table>\n",
       "</div>"
      ],
      "text/plain": [
       "                                 id             breed  \\\n",
       "0  000bec180eb18c7604dcecc8fe0dba07       boston_bull   \n",
       "1  001513dfcb2ffafc82cccf4d8bbaba97             dingo   \n",
       "2  001cdf01b096e06d78e9e5112d419397          pekinese   \n",
       "3  00214f311d5d2247d5dfe4fe24b2303d          bluetick   \n",
       "4  0021f9ceb3235effd7fcde7f7538ed62  golden_retriever   \n",
       "\n",
       "                                     img_path  \n",
       "0  train/000bec180eb18c7604dcecc8fe0dba07.jpg  \n",
       "1  train/001513dfcb2ffafc82cccf4d8bbaba97.jpg  \n",
       "2  train/001cdf01b096e06d78e9e5112d419397.jpg  \n",
       "3  train/00214f311d5d2247d5dfe4fe24b2303d.jpg  \n",
       "4  train/0021f9ceb3235effd7fcde7f7538ed62.jpg  "
      ]
     },
     "execution_count": 6,
     "metadata": {},
     "output_type": "execute_result"
    }
   ],
   "source": [
    "#Adding path of the dog image to its id and breed\n",
    "\n",
    "train_df=labels_df.assign(img_path=lambda x: img_file + x['id'] +'.jpg')\n",
    "train_df.head()"
   ]
  },
  {
   "cell_type": "markdown",
   "id": "64c292bb",
   "metadata": {},
   "source": [
    "### Visualization"
   ]
  },
  {
   "cell_type": "code",
   "execution_count": 7,
   "id": "e990f301",
   "metadata": {},
   "outputs": [
    {
     "name": "stdout",
     "output_type": "stream",
     "text": [
      "dingo\n"
     ]
    },
    {
     "data": {
      "image/jpeg": "[encoded data removed]",
      "text/plain": [
       "<IPython.core.display.Image object>"
      ]
     },
     "execution_count": 7,
     "metadata": {},
     "output_type": "execute_result"
    }
   ],
   "source": [
    "# Viewing an image using filename\n",
    "print(train_df['breed'][1])\n",
    "Image(train_df['img_path'][1])"
   ]
  },
  {
   "cell_type": "code",
   "execution_count": 8,
   "id": "fca8ff3b",
   "metadata": {
    "scrolled": true
   },
   "outputs": [
    {
     "name": "stdout",
     "output_type": "stream",
     "text": [
      "african_hunting_dog\n"
     ]
    },
    {
     "data": {
      "image/jpeg": "[encoded data removed]",
      "text/plain": [
       "<IPython.core.display.Image object>"
      ]
     },
     "execution_count": 8,
     "metadata": {},
     "output_type": "execute_result"
    }
   ],
   "source": [
    "# Viewing an image using filename\n",
    "print(train_df['breed'][15])\n",
    "Image(train_df['img_path'][15])"
   ]
  },
  {
   "cell_type": "code",
   "execution_count": 9,
   "id": "60d06293",
   "metadata": {},
   "outputs": [
    {
     "data": {
      "text/plain": [
       "scottish_deerhound      126\n",
       "maltese_dog             117\n",
       "afghan_hound            116\n",
       "entlebucher             115\n",
       "bernese_mountain_dog    114\n",
       "Name: breed, dtype: int64"
      ]
     },
     "execution_count": 9,
     "metadata": {},
     "output_type": "execute_result"
    }
   ],
   "source": [
    "# Visualize the number of each breeds\n",
    "breeds_all = train_df[\"breed\"]\n",
    "breed_counts = breeds_all.value_counts()\n",
    "breed_counts.head()"
   ]
  },
  {
   "cell_type": "code",
   "execution_count": 10,
   "id": "a934b796",
   "metadata": {
    "scrolled": true
   },
   "outputs": [
    {
     "data": {
      "text/html": [
       "<div>\n",
       "<style scoped>\n",
       "    .dataframe tbody tr th:only-of-type {\n",
       "        vertical-align: middle;\n",
       "    }\n",
       "\n",
       "    .dataframe tbody tr th {\n",
       "        vertical-align: top;\n",
       "    }\n",
       "\n",
       "    .dataframe thead th {\n",
       "        text-align: right;\n",
       "    }\n",
       "</style>\n",
       "<table border=\"1\" class=\"dataframe\">\n",
       "  <thead>\n",
       "    <tr style=\"text-align: right;\">\n",
       "      <th></th>\n",
       "      <th>index</th>\n",
       "      <th>id</th>\n",
       "      <th>breed</th>\n",
       "      <th>img_path</th>\n",
       "    </tr>\n",
       "  </thead>\n",
       "  <tbody>\n",
       "    <tr>\n",
       "      <th>0</th>\n",
       "      <td>9</td>\n",
       "      <td>0042188c895a2f14ef64a918ed9c7b64</td>\n",
       "      <td>scottish_deerhound</td>\n",
       "      <td>train/0042188c895a2f14ef64a918ed9c7b64.jpg</td>\n",
       "    </tr>\n",
       "    <tr>\n",
       "      <th>1</th>\n",
       "      <td>12</td>\n",
       "      <td>00693b8bc2470375cc744a6391d397ec</td>\n",
       "      <td>maltese_dog</td>\n",
       "      <td>train/00693b8bc2470375cc744a6391d397ec.jpg</td>\n",
       "    </tr>\n",
       "    <tr>\n",
       "      <th>2</th>\n",
       "      <td>79</td>\n",
       "      <td>01e787576c003930f96c966f9c3e1d44</td>\n",
       "      <td>scottish_deerhound</td>\n",
       "      <td>train/01e787576c003930f96c966f9c3e1d44.jpg</td>\n",
       "    </tr>\n",
       "    <tr>\n",
       "      <th>3</th>\n",
       "      <td>90</td>\n",
       "      <td>022b34fd8734b39995a9f38a4f3e7b6b</td>\n",
       "      <td>maltese_dog</td>\n",
       "      <td>train/022b34fd8734b39995a9f38a4f3e7b6b.jpg</td>\n",
       "    </tr>\n",
       "    <tr>\n",
       "      <th>4</th>\n",
       "      <td>146</td>\n",
       "      <td>0379145880ad3978f9b80f0dc2c03fba</td>\n",
       "      <td>afghan_hound</td>\n",
       "      <td>train/0379145880ad3978f9b80f0dc2c03fba.jpg</td>\n",
       "    </tr>\n",
       "  </tbody>\n",
       "</table>\n",
       "</div>"
      ],
      "text/plain": [
       "   index                                id               breed  \\\n",
       "0      9  0042188c895a2f14ef64a918ed9c7b64  scottish_deerhound   \n",
       "1     12  00693b8bc2470375cc744a6391d397ec         maltese_dog   \n",
       "2     79  01e787576c003930f96c966f9c3e1d44  scottish_deerhound   \n",
       "3     90  022b34fd8734b39995a9f38a4f3e7b6b         maltese_dog   \n",
       "4    146  0379145880ad3978f9b80f0dc2c03fba        afghan_hound   \n",
       "\n",
       "                                     img_path  \n",
       "0  train/0042188c895a2f14ef64a918ed9c7b64.jpg  \n",
       "1  train/00693b8bc2470375cc744a6391d397ec.jpg  \n",
       "2  train/01e787576c003930f96c966f9c3e1d44.jpg  \n",
       "3  train/022b34fd8734b39995a9f38a4f3e7b6b.jpg  \n",
       "4  train/0379145880ad3978f9b80f0dc2c03fba.jpg  "
      ]
     },
     "execution_count": 10,
     "metadata": {},
     "output_type": "execute_result"
    }
   ],
   "source": [
    "# Selecting first 3 breeds (Limitation due to computation power)\n",
    "CLASS_NAMES = ['scottish_deerhound','maltese_dog','afghan_hound']\n",
    "labels = train_df[(train_df['breed'].isin(CLASS_NAMES))]\n",
    "labels = labels.reset_index()\n",
    "labels.head()"
   ]
  },
  {
   "cell_type": "markdown",
   "id": "a7cb7707",
   "metadata": {},
   "source": [
    "We will work on only 3 breeds due to limited computational power"
   ]
  },
  {
   "cell_type": "code",
   "execution_count": 11,
   "id": "2be18776",
   "metadata": {},
   "outputs": [],
   "source": [
    "from sklearn.preprocessing import label_binarize\n",
    "from tqdm import tqdm\n",
    "from tensorflow.keras.preprocessing import image\n",
    "# Creating numpy matrix with zeros\n",
    "X  = np.zeros((len(labels), 224, 224, 3), dtype='float32')"
   ]
  },
  {
   "cell_type": "code",
   "execution_count": 12,
   "id": "84f6eebc",
   "metadata": {},
   "outputs": [],
   "source": [
    "# One hot encoding\n",
    "y = label_binarize(labels['breed'], classes = CLASS_NAMES)"
   ]
  },
  {
   "cell_type": "code",
   "execution_count": 13,
   "id": "bce3097f",
   "metadata": {},
   "outputs": [
    {
     "name": "stderr",
     "output_type": "stream",
     "text": [
      "100%|███████████████████████████████████████████████████████████████████████████████| 359/359 [00:01<00:00, 339.52it/s]\n"
     ]
    }
   ],
   "source": [
    "# Reading and converting image to numpy array and normalizing dataset\n",
    "for i in tqdm(range(len(labels))):\n",
    "    img = image.load_img('train/%s.jpg' % labels['id'][i], target_size=(224, 224))\n",
    "    img = image.img_to_array(img)\n",
    "    x = np.expand_dims(img.copy(), axis=0)\n",
    "    X[i] = x / 255.0"
   ]
  },
  {
   "cell_type": "code",
   "execution_count": 14,
   "id": "414aef93",
   "metadata": {},
   "outputs": [
    {
     "name": "stdout",
     "output_type": "stream",
     "text": [
      "\n",
      "Train Images shape:  (359, 224, 224, 3)  size: 54,039,552\n",
      "One-hot encoded output shape:  (359, 3)  size: 1,077\n"
     ]
    }
   ],
   "source": [
    "# Printing train image and one hot encode shape & size\n",
    "print('\\nTrain Images shape: ',X.shape,' size: {:,}'.format(X.size))\n",
    "print('One-hot encoded output shape: ',y.shape,' size: {:,}'.format(y.size))"
   ]
  },
  {
   "cell_type": "code",
   "execution_count": 15,
   "id": "4081199c",
   "metadata": {},
   "outputs": [
    {
     "name": "stdout",
     "output_type": "stream",
     "text": [
      "Model: \"sequential\"\n",
      "_________________________________________________________________\n",
      " Layer (type)                Output Shape              Param #   \n",
      "=================================================================\n",
      " conv2d (Conv2D)             (None, 220, 220, 64)      4864      \n",
      "                                                                 \n",
      " max_pooling2d (MaxPooling2D  (None, 110, 110, 64)     0         \n",
      " )                                                               \n",
      "                                                                 \n",
      " conv2d_1 (Conv2D)           (None, 108, 108, 32)      18464     \n",
      "                                                                 \n",
      " max_pooling2d_1 (MaxPooling  (None, 54, 54, 32)       0         \n",
      " 2D)                                                             \n",
      "                                                                 \n",
      " conv2d_2 (Conv2D)           (None, 48, 48, 16)        25104     \n",
      "                                                                 \n",
      " max_pooling2d_2 (MaxPooling  (None, 24, 24, 16)       0         \n",
      " 2D)                                                             \n",
      "                                                                 \n",
      " conv2d_3 (Conv2D)           (None, 20, 20, 8)         3208      \n",
      "                                                                 \n",
      " max_pooling2d_3 (MaxPooling  (None, 10, 10, 8)        0         \n",
      " 2D)                                                             \n",
      "                                                                 \n",
      " flatten (Flatten)           (None, 800)               0         \n",
      "                                                                 \n",
      " dense (Dense)               (None, 128)               102528    \n",
      "                                                                 \n",
      " dense_1 (Dense)             (None, 64)                8256      \n",
      "                                                                 \n",
      " dense_2 (Dense)             (None, 3)                 195       \n",
      "                                                                 \n",
      "=================================================================\n",
      "Total params: 162,619\n",
      "Trainable params: 162,619\n",
      "Non-trainable params: 0\n",
      "_________________________________________________________________\n"
     ]
    }
   ],
   "source": [
    "# Building the Model\n",
    "model = Sequential()\n",
    "\n",
    "model.add(Conv2D(filters = 64, kernel_size = (5,5), activation ='relu', input_shape = (224,224,3)))\n",
    "model.add(MaxPool2D(pool_size=(2,2)))\n",
    "\n",
    "model.add(Conv2D(filters = 32, kernel_size = (3,3), activation ='relu', kernel_regularizer = 'l2'))\n",
    "model.add(MaxPool2D(pool_size=(2,2)))\n",
    "\n",
    "model.add(Conv2D(filters = 16, kernel_size = (7,7), activation ='relu', kernel_regularizer = 'l2'))\n",
    "model.add(MaxPool2D(pool_size=(2,2)))\n",
    "\n",
    "model.add(Conv2D(filters = 8, kernel_size = (5,5), activation ='relu', kernel_regularizer = 'l2'))\n",
    "model.add(MaxPool2D(pool_size=(2,2)))\n",
    "\n",
    "model.add(Flatten())\n",
    "model.add(Dense(128, activation = \"relu\", kernel_regularizer = 'l2'))\n",
    "model.add(Dense(64, activation = \"relu\", kernel_regularizer = 'l2'))\n",
    "model.add(Dense(len(CLASS_NAMES), activation = \"softmax\"))\n",
    "\n",
    "model.compile(loss = 'categorical_crossentropy', optimizer = Adam(0.0001),metrics=['accuracy'])\n",
    "\n",
    "model.summary()"
   ]
  },
  {
   "cell_type": "code",
   "execution_count": 16,
   "id": "736ccf18",
   "metadata": {},
   "outputs": [],
   "source": [
    "from sklearn.model_selection import train_test_split\n",
    "# Splitting the data set into training and testing data sets\n",
    "X_train_and_val, X_test, Y_train_and_val, Y_test = train_test_split(X, y, test_size = 0.1)\n",
    "# Splitting the training data set into training and validation data sets\n",
    "X_train, X_val, Y_train, Y_val = train_test_split(X_train_and_val, Y_train_and_val, test_size = 0.2)"
   ]
  },
  {
   "cell_type": "code",
   "execution_count": 18,
   "id": "7a7ddc08",
   "metadata": {},
   "outputs": [
    {
     "name": "stdout",
     "output_type": "stream",
     "text": [
      "Epoch 1/100\n",
      "3/3 [==============================] - 35s 9s/step - loss: 4.5844 - accuracy: 0.4264 - val_loss: 4.5769 - val_accuracy: 0.4462\n",
      "Epoch 2/100\n",
      "3/3 [==============================] - 28s 8s/step - loss: 4.5560 - accuracy: 0.4341 - val_loss: 4.5513 - val_accuracy: 0.4308\n",
      "Epoch 3/100\n",
      "3/3 [==============================] - 26s 7s/step - loss: 4.5270 - accuracy: 0.4380 - val_loss: 4.5258 - val_accuracy: 0.2923\n",
      "Epoch 4/100\n",
      "3/3 [==============================] - 27s 7s/step - loss: 4.4979 - accuracy: 0.3915 - val_loss: 4.5026 - val_accuracy: 0.2615\n",
      "Epoch 5/100\n",
      "3/3 [==============================] - 25s 7s/step - loss: 4.4692 - accuracy: 0.3798 - val_loss: 4.4792 - val_accuracy: 0.2615\n",
      "Epoch 6/100\n",
      "3/3 [==============================] - 25s 7s/step - loss: 4.4420 - accuracy: 0.3798 - val_loss: 4.4559 - val_accuracy: 0.2923\n",
      "Epoch 7/100\n",
      "3/3 [==============================] - 24s 6s/step - loss: 4.4157 - accuracy: 0.3953 - val_loss: 4.4364 - val_accuracy: 0.2923\n",
      "Epoch 8/100\n",
      "3/3 [==============================] - 24s 7s/step - loss: 4.3902 - accuracy: 0.4031 - val_loss: 4.4191 - val_accuracy: 0.2769\n",
      "Epoch 9/100\n",
      "3/3 [==============================] - 24s 6s/step - loss: 4.3642 - accuracy: 0.3876 - val_loss: 4.3944 - val_accuracy: 0.2615\n",
      "Epoch 10/100\n",
      "3/3 [==============================] - 24s 6s/step - loss: 4.3364 - accuracy: 0.3876 - val_loss: 4.3580 - val_accuracy: 0.2615\n",
      "Epoch 11/100\n",
      "3/3 [==============================] - 24s 6s/step - loss: 4.3069 - accuracy: 0.3876 - val_loss: 4.3161 - val_accuracy: 0.2769\n",
      "Epoch 12/100\n",
      "3/3 [==============================] - 24s 6s/step - loss: 4.2797 - accuracy: 0.4070 - val_loss: 4.2805 - val_accuracy: 0.4154\n",
      "Epoch 13/100\n",
      "3/3 [==============================] - 23s 6s/step - loss: 4.2553 - accuracy: 0.4457 - val_loss: 4.2505 - val_accuracy: 0.4308\n",
      "Epoch 14/100\n",
      "3/3 [==============================] - 23s 6s/step - loss: 4.2302 - accuracy: 0.4767 - val_loss: 4.2233 - val_accuracy: 0.4462\n",
      "Epoch 15/100\n",
      "3/3 [==============================] - 23s 6s/step - loss: 4.2058 - accuracy: 0.4690 - val_loss: 4.1995 - val_accuracy: 0.3692\n",
      "Epoch 16/100\n",
      "3/3 [==============================] - 24s 6s/step - loss: 4.1811 - accuracy: 0.4186 - val_loss: 4.1775 - val_accuracy: 0.2615\n",
      "Epoch 17/100\n",
      "3/3 [==============================] - 23s 6s/step - loss: 4.1564 - accuracy: 0.3915 - val_loss: 4.1530 - val_accuracy: 0.2462\n",
      "Epoch 18/100\n",
      "3/3 [==============================] - 23s 6s/step - loss: 4.1320 - accuracy: 0.3837 - val_loss: 4.1281 - val_accuracy: 0.2615\n",
      "Epoch 19/100\n",
      "3/3 [==============================] - 23s 6s/step - loss: 4.1071 - accuracy: 0.3915 - val_loss: 4.1036 - val_accuracy: 0.2769\n",
      "Epoch 20/100\n",
      "3/3 [==============================] - 22s 6s/step - loss: 4.0832 - accuracy: 0.4070 - val_loss: 4.0825 - val_accuracy: 0.3077\n",
      "Epoch 21/100\n",
      "3/3 [==============================] - 23s 6s/step - loss: 4.0596 - accuracy: 0.4070 - val_loss: 4.0623 - val_accuracy: 0.3077\n",
      "Epoch 22/100\n",
      "3/3 [==============================] - 23s 6s/step - loss: 4.0358 - accuracy: 0.4109 - val_loss: 4.0394 - val_accuracy: 0.3077\n",
      "Epoch 23/100\n",
      "3/3 [==============================] - 23s 6s/step - loss: 4.0116 - accuracy: 0.4147 - val_loss: 4.0128 - val_accuracy: 0.3231\n",
      "Epoch 24/100\n",
      "3/3 [==============================] - 23s 6s/step - loss: 3.9860 - accuracy: 0.4225 - val_loss: 3.9831 - val_accuracy: 0.2923\n",
      "Epoch 25/100\n",
      "3/3 [==============================] - 23s 6s/step - loss: 3.9638 - accuracy: 0.4302 - val_loss: 3.9568 - val_accuracy: 0.3385\n",
      "Epoch 26/100\n",
      "3/3 [==============================] - 21s 6s/step - loss: 3.9460 - accuracy: 0.3953 - val_loss: 3.9330 - val_accuracy: 0.3077\n",
      "Epoch 27/100\n",
      "3/3 [==============================] - 21s 6s/step - loss: 3.9262 - accuracy: 0.4457 - val_loss: 3.9080 - val_accuracy: 0.3231\n",
      "Epoch 28/100\n",
      "3/3 [==============================] - 21s 6s/step - loss: 3.9080 - accuracy: 0.4419 - val_loss: 3.8869 - val_accuracy: 0.3385\n",
      "Epoch 29/100\n",
      "3/3 [==============================] - 21s 5s/step - loss: 3.8909 - accuracy: 0.4264 - val_loss: 3.8645 - val_accuracy: 0.3692\n",
      "Epoch 30/100\n",
      "3/3 [==============================] - 20s 6s/step - loss: 3.8734 - accuracy: 0.3566 - val_loss: 3.8276 - val_accuracy: 0.4154\n",
      "Epoch 31/100\n",
      "3/3 [==============================] - 21s 5s/step - loss: 3.8462 - accuracy: 0.3023 - val_loss: 3.8039 - val_accuracy: 0.4308\n",
      "Epoch 32/100\n",
      "3/3 [==============================] - 21s 6s/step - loss: 3.8186 - accuracy: 0.3062 - val_loss: 3.7943 - val_accuracy: 0.4923\n",
      "Epoch 33/100\n",
      "3/3 [==============================] - 21s 6s/step - loss: 3.7962 - accuracy: 0.5078 - val_loss: 3.7876 - val_accuracy: 0.4615\n",
      "Epoch 34/100\n",
      "3/3 [==============================] - 20s 5s/step - loss: 3.7751 - accuracy: 0.5078 - val_loss: 3.7767 - val_accuracy: 0.4000\n",
      "Epoch 35/100\n",
      "3/3 [==============================] - 20s 5s/step - loss: 3.7544 - accuracy: 0.4574 - val_loss: 3.7535 - val_accuracy: 0.4308\n",
      "Epoch 36/100\n",
      "3/3 [==============================] - 20s 5s/step - loss: 3.7338 - accuracy: 0.4806 - val_loss: 3.7228 - val_accuracy: 0.4000\n",
      "Epoch 37/100\n",
      "3/3 [==============================] - 22s 6s/step - loss: 3.7118 - accuracy: 0.5078 - val_loss: 3.6991 - val_accuracy: 0.4769\n",
      "Epoch 38/100\n",
      "3/3 [==============================] - 21s 5s/step - loss: 3.6886 - accuracy: 0.5465 - val_loss: 3.6827 - val_accuracy: 0.5077\n",
      "Epoch 39/100\n",
      "3/3 [==============================] - 21s 6s/step - loss: 3.6627 - accuracy: 0.6085 - val_loss: 3.6707 - val_accuracy: 0.4769\n",
      "Epoch 40/100\n",
      "3/3 [==============================] - 21s 6s/step - loss: 3.6394 - accuracy: 0.5891 - val_loss: 3.6587 - val_accuracy: 0.4923\n",
      "Epoch 41/100\n",
      "3/3 [==============================] - 21s 5s/step - loss: 3.6153 - accuracy: 0.5775 - val_loss: 3.6509 - val_accuracy: 0.4923\n",
      "Epoch 42/100\n",
      "3/3 [==============================] - 21s 6s/step - loss: 3.5927 - accuracy: 0.5349 - val_loss: 3.6403 - val_accuracy: 0.4000\n",
      "Epoch 43/100\n",
      "3/3 [==============================] - 21s 6s/step - loss: 3.5717 - accuracy: 0.4496 - val_loss: 3.6228 - val_accuracy: 0.3231\n",
      "Epoch 44/100\n",
      "3/3 [==============================] - 21s 6s/step - loss: 3.5527 - accuracy: 0.4186 - val_loss: 3.6170 - val_accuracy: 0.4769\n",
      "Epoch 45/100\n",
      "3/3 [==============================] - 25s 7s/step - loss: 3.5251 - accuracy: 0.5349 - val_loss: 3.6091 - val_accuracy: 0.4923\n",
      "Epoch 46/100\n",
      "3/3 [==============================] - 26s 6s/step - loss: 3.5062 - accuracy: 0.5853 - val_loss: 3.5196 - val_accuracy: 0.5077\n",
      "Epoch 47/100\n",
      "3/3 [==============================] - 23s 6s/step - loss: 3.4513 - accuracy: 0.6240 - val_loss: 3.4458 - val_accuracy: 0.5385\n",
      "Epoch 48/100\n",
      "3/3 [==============================] - 23s 6s/step - loss: 3.4393 - accuracy: 0.5814 - val_loss: 3.4340 - val_accuracy: 0.6154\n",
      "Epoch 49/100\n",
      "3/3 [==============================] - 23s 6s/step - loss: 3.4463 - accuracy: 0.5543 - val_loss: 3.4992 - val_accuracy: 0.4000\n",
      "Epoch 50/100\n",
      "3/3 [==============================] - 24s 6s/step - loss: 3.5068 - accuracy: 0.4264 - val_loss: 3.4953 - val_accuracy: 0.3692\n",
      "Epoch 51/100\n",
      "3/3 [==============================] - 26s 7s/step - loss: 3.5014 - accuracy: 0.4186 - val_loss: 3.4174 - val_accuracy: 0.4769\n",
      "Epoch 52/100\n",
      "3/3 [==============================] - 23s 6s/step - loss: 3.3933 - accuracy: 0.5775 - val_loss: 3.3643 - val_accuracy: 0.5077\n",
      "Epoch 53/100\n",
      "3/3 [==============================] - 25s 7s/step - loss: 3.3460 - accuracy: 0.6085 - val_loss: 3.3812 - val_accuracy: 0.4000\n",
      "Epoch 54/100\n",
      "3/3 [==============================] - 23s 6s/step - loss: 3.3480 - accuracy: 0.5349 - val_loss: 3.3524 - val_accuracy: 0.5231\n",
      "Epoch 55/100\n",
      "3/3 [==============================] - 22s 6s/step - loss: 3.3082 - accuracy: 0.6550 - val_loss: 3.3558 - val_accuracy: 0.4615\n",
      "Epoch 56/100\n",
      "3/3 [==============================] - 22s 6s/step - loss: 3.2933 - accuracy: 0.6318 - val_loss: 3.3186 - val_accuracy: 0.4923\n",
      "Epoch 57/100\n",
      "3/3 [==============================] - 22s 6s/step - loss: 3.2613 - accuracy: 0.6628 - val_loss: 3.2907 - val_accuracy: 0.5231\n",
      "Epoch 58/100\n",
      "3/3 [==============================] - 22s 6s/step - loss: 3.2319 - accuracy: 0.6822 - val_loss: 3.3148 - val_accuracy: 0.4615\n",
      "Epoch 59/100\n"
     ]
    },
    {
     "name": "stdout",
     "output_type": "stream",
     "text": [
      "3/3 [==============================] - 22s 6s/step - loss: 3.2194 - accuracy: 0.6395 - val_loss: 3.3255 - val_accuracy: 0.4923\n",
      "Epoch 60/100\n",
      "3/3 [==============================] - 23s 6s/step - loss: 3.2032 - accuracy: 0.6240 - val_loss: 3.2910 - val_accuracy: 0.5538\n",
      "Epoch 61/100\n",
      "3/3 [==============================] - 24s 6s/step - loss: 3.1811 - accuracy: 0.6202 - val_loss: 3.2300 - val_accuracy: 0.5385\n",
      "Epoch 62/100\n",
      "3/3 [==============================] - 22s 6s/step - loss: 3.1391 - accuracy: 0.6667 - val_loss: 3.1508 - val_accuracy: 0.5385\n",
      "Epoch 63/100\n",
      "3/3 [==============================] - 24s 6s/step - loss: 3.1109 - accuracy: 0.6822 - val_loss: 3.1611 - val_accuracy: 0.5385\n",
      "Epoch 64/100\n",
      "3/3 [==============================] - 23s 6s/step - loss: 3.1353 - accuracy: 0.5891 - val_loss: 3.1716 - val_accuracy: 0.5231\n",
      "Epoch 65/100\n",
      "3/3 [==============================] - 24s 6s/step - loss: 3.0781 - accuracy: 0.6357 - val_loss: 3.0716 - val_accuracy: 0.6154\n",
      "Epoch 66/100\n",
      "3/3 [==============================] - 22s 6s/step - loss: 3.0732 - accuracy: 0.6705 - val_loss: 3.0659 - val_accuracy: 0.5692\n",
      "Epoch 67/100\n",
      "3/3 [==============================] - 22s 6s/step - loss: 3.0249 - accuracy: 0.7016 - val_loss: 3.0906 - val_accuracy: 0.5231\n",
      "Epoch 68/100\n",
      "3/3 [==============================] - 23s 6s/step - loss: 3.0061 - accuracy: 0.6822 - val_loss: 3.0270 - val_accuracy: 0.5846\n",
      "Epoch 69/100\n",
      "3/3 [==============================] - 22s 6s/step - loss: 2.9837 - accuracy: 0.6938 - val_loss: 3.0661 - val_accuracy: 0.5231\n",
      "Epoch 70/100\n",
      "3/3 [==============================] - 22s 6s/step - loss: 2.9736 - accuracy: 0.6628 - val_loss: 2.9998 - val_accuracy: 0.5538\n",
      "Epoch 71/100\n",
      "3/3 [==============================] - 22s 6s/step - loss: 2.9434 - accuracy: 0.7093 - val_loss: 2.9679 - val_accuracy: 0.5846\n",
      "Epoch 72/100\n",
      "3/3 [==============================] - 22s 6s/step - loss: 2.9163 - accuracy: 0.7209 - val_loss: 3.0717 - val_accuracy: 0.4923\n",
      "Epoch 73/100\n",
      "3/3 [==============================] - 23s 6s/step - loss: 2.9656 - accuracy: 0.6434 - val_loss: 3.0649 - val_accuracy: 0.5846\n",
      "Epoch 74/100\n",
      "3/3 [==============================] - 27s 7s/step - loss: 2.9248 - accuracy: 0.6628 - val_loss: 3.0994 - val_accuracy: 0.4769\n",
      "Epoch 75/100\n",
      "3/3 [==============================] - 27s 7s/step - loss: 3.0457 - accuracy: 0.5349 - val_loss: 2.9849 - val_accuracy: 0.5538\n",
      "Epoch 76/100\n",
      "3/3 [==============================] - 30s 8s/step - loss: 2.8941 - accuracy: 0.6860 - val_loss: 3.0927 - val_accuracy: 0.5077\n",
      "Epoch 77/100\n",
      "3/3 [==============================] - 25s 6s/step - loss: 2.9677 - accuracy: 0.6279 - val_loss: 3.0676 - val_accuracy: 0.5077\n",
      "Epoch 78/100\n",
      "3/3 [==============================] - 26s 7s/step - loss: 2.8991 - accuracy: 0.6512 - val_loss: 2.8956 - val_accuracy: 0.5538\n",
      "Epoch 79/100\n",
      "3/3 [==============================] - 27s 7s/step - loss: 2.8554 - accuracy: 0.7132 - val_loss: 2.9084 - val_accuracy: 0.5231\n",
      "Epoch 80/100\n",
      "3/3 [==============================] - 25s 7s/step - loss: 2.8787 - accuracy: 0.7054 - val_loss: 2.8414 - val_accuracy: 0.6923\n",
      "Epoch 81/100\n",
      "3/3 [==============================] - 20s 5s/step - loss: 2.8137 - accuracy: 0.7248 - val_loss: 2.8393 - val_accuracy: 0.6615\n",
      "Epoch 82/100\n",
      "3/3 [==============================] - 18s 5s/step - loss: 2.7835 - accuracy: 0.7558 - val_loss: 2.8476 - val_accuracy: 0.6000\n",
      "Epoch 83/100\n",
      "3/3 [==============================] - 19s 5s/step - loss: 2.7600 - accuracy: 0.7248 - val_loss: 2.8975 - val_accuracy: 0.5846\n",
      "Epoch 84/100\n",
      "3/3 [==============================] - 22s 6s/step - loss: 2.7734 - accuracy: 0.6899 - val_loss: 2.9622 - val_accuracy: 0.5692\n",
      "Epoch 85/100\n",
      "3/3 [==============================] - 24s 6s/step - loss: 2.7709 - accuracy: 0.6860 - val_loss: 2.8333 - val_accuracy: 0.6154\n",
      "Epoch 86/100\n",
      "3/3 [==============================] - 24s 6s/step - loss: 2.7134 - accuracy: 0.7364 - val_loss: 2.7773 - val_accuracy: 0.6615\n",
      "Epoch 87/100\n",
      "3/3 [==============================] - 22s 6s/step - loss: 2.8125 - accuracy: 0.6240 - val_loss: 2.7551 - val_accuracy: 0.7077\n",
      "Epoch 88/100\n",
      "3/3 [==============================] - 21s 5s/step - loss: 2.7408 - accuracy: 0.6395 - val_loss: 2.8983 - val_accuracy: 0.6308\n",
      "Epoch 89/100\n",
      "3/3 [==============================] - 18s 5s/step - loss: 2.7622 - accuracy: 0.6667 - val_loss: 2.8387 - val_accuracy: 0.5846\n",
      "Epoch 90/100\n",
      "3/3 [==============================] - 21s 6s/step - loss: 2.6614 - accuracy: 0.7287 - val_loss: 2.8605 - val_accuracy: 0.6000\n",
      "Epoch 91/100\n",
      "3/3 [==============================] - 19s 5s/step - loss: 2.6933 - accuracy: 0.6822 - val_loss: 2.9468 - val_accuracy: 0.5692\n",
      "Epoch 92/100\n",
      "3/3 [==============================] - 18s 5s/step - loss: 2.7293 - accuracy: 0.6744 - val_loss: 2.8279 - val_accuracy: 0.6154\n",
      "Epoch 93/100\n",
      "3/3 [==============================] - 20s 6s/step - loss: 2.6298 - accuracy: 0.7171 - val_loss: 2.8209 - val_accuracy: 0.5692\n",
      "Epoch 94/100\n",
      "3/3 [==============================] - 19s 5s/step - loss: 2.7709 - accuracy: 0.6822 - val_loss: 2.6911 - val_accuracy: 0.6615\n",
      "Epoch 95/100\n",
      "3/3 [==============================] - 20s 5s/step - loss: 2.6121 - accuracy: 0.7674 - val_loss: 2.7960 - val_accuracy: 0.6154\n",
      "Epoch 96/100\n",
      "3/3 [==============================] - 21s 6s/step - loss: 2.6537 - accuracy: 0.7132 - val_loss: 2.6791 - val_accuracy: 0.6154\n",
      "Epoch 97/100\n",
      "3/3 [==============================] - 20s 5s/step - loss: 2.5918 - accuracy: 0.7829 - val_loss: 2.7536 - val_accuracy: 0.5692\n",
      "Epoch 98/100\n",
      "3/3 [==============================] - 21s 6s/step - loss: 2.7400 - accuracy: 0.6899 - val_loss: 2.6639 - val_accuracy: 0.6308\n",
      "Epoch 99/100\n",
      "3/3 [==============================] - 22s 6s/step - loss: 2.5950 - accuracy: 0.7713 - val_loss: 2.6508 - val_accuracy: 0.6769\n",
      "Epoch 100/100\n",
      "3/3 [==============================] - 21s 6s/step - loss: 2.5588 - accuracy: 0.7946 - val_loss: 2.6541 - val_accuracy: 0.6769\n"
     ]
    }
   ],
   "source": [
    "# Training the model\n",
    "epochs = 100\n",
    "batch_size = 128\n",
    "\n",
    "history = model.fit(X_train, Y_train, batch_size = batch_size, epochs = epochs, \n",
    "                    validation_data = (X_val, Y_val))"
   ]
  },
  {
   "cell_type": "code",
   "execution_count": null,
   "id": "67166e5b",
   "metadata": {},
   "outputs": [],
   "source": []
  }
 ],
 "metadata": {
  "kernelspec": {
   "display_name": "Python 3 (ipykernel)",
   "language": "python",
   "name": "python3"
  },
  "language_info": {
   "codemirror_mode": {
    "name": "ipython",
    "version": 3
   },
   "file_extension": ".py",
   "mimetype": "text/x-python",
   "name": "python",
   "nbconvert_exporter": "python",
   "pygments_lexer": "ipython3",
   "version": "3.9.7"
  }
 },
 "nbformat": 4,
 "nbformat_minor": 5
}
